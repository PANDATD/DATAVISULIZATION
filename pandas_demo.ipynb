{
  "nbformat": 4,
  "nbformat_minor": 0,
  "metadata": {
    "kernelspec": {
      "display_name": "Python 3",
      "language": "python",
      "name": "python3"
    },
    "language_info": {
      "codemirror_mode": {
        "name": "ipython",
        "version": 3
      },
      "file_extension": ".py",
      "mimetype": "text/x-python",
      "name": "python",
      "nbconvert_exporter": "python",
      "pygments_lexer": "ipython3",
      "version": "3.9.1"
    },
    "colab": {
      "name": "pandas demo.ipynb",
      "provenance": [],
      "include_colab_link": true
    }
  },
  "cells": [
    {
      "cell_type": "markdown",
      "metadata": {
        "id": "view-in-github",
        "colab_type": "text"
      },
      "source": [
        "<a href=\"https://colab.research.google.com/github/PANDATD/DATAVISULIZATION/blob/master/pandas_demo.ipynb\" target=\"_parent\"><img src=\"https://colab.research.google.com/assets/colab-badge.svg\" alt=\"Open In Colab\"/></a>"
      ]
    },
    {
      "cell_type": "code",
      "metadata": {
        "id": "pWneCGN1cCaK"
      },
      "source": [
        "import pandas as pd \n",
        "# package is being imported "
      ],
      "execution_count": 17,
      "outputs": []
    },
    {
      "cell_type": "code",
      "metadata": {
        "id": "W5LAHKqucCa5"
      },
      "source": [
        "#df = pd.read_csv('data.csv')\n",
        "note  = \"\"\"df is an dataframe and dataframe is nothing but rows and columns\n",
        "pd.read_csv method reads the csv data from csv file\"\"\" \n"
      ],
      "execution_count": 18,
      "outputs": []
    },
    {
      "cell_type": "code",
      "metadata": {
        "id": "Tvw9GgWwcCa_"
      },
      "source": [
        "#df.shape\n",
        "# it returns the rows and coloumns , note : don't include () after the shape \n"
      ],
      "execution_count": 19,
      "outputs": []
    },
    {
      "cell_type": "code",
      "metadata": {
        "id": "wF8XqpW2cCbN"
      },
      "source": [
        "#df.info() # it prints the overall info "
      ],
      "execution_count": 20,
      "outputs": []
    },
    {
      "cell_type": "code",
      "metadata": {
        "id": "milmqitmcCbO"
      },
      "source": [
        "people = {\n",
        "    'name':['pandatd','vbg','d','kunal','ceo','mukesh'],\n",
        "    'companay':['coddersclub','coddersclub','coddersclub','coddersclub','coddersclub','client'],\n",
        "    'email':['pandatd@coddersclub.com','vbg@coddersclub.com','d.coddersclub.com','kunal@coddersclub.com','ceo@coddersclub.com','mueksh@client-coddersclub.com']\n",
        "}\n",
        "#print(\"This is Dict: \",people)\n",
        "new_df = pd.DataFrame(people)#new dataframe is created using people Dict\n",
        "#new_df"
      ],
      "execution_count": 21,
      "outputs": []
    },
    {
      "cell_type": "code",
      "metadata": {
        "collapsed": true,
        "colab": {
          "base_uri": "https://localhost:8080/",
          "height": 237
        },
        "id": "2SQ90dIicCbQ",
        "outputId": "73c89127-76c3-4150-a5cc-48c5ca65a7bd"
      },
      "source": [
        "new_df"
      ],
      "execution_count": 22,
      "outputs": [
        {
          "output_type": "execute_result",
          "data": {
            "text/html": [
              "<div>\n",
              "<style scoped>\n",
              "    .dataframe tbody tr th:only-of-type {\n",
              "        vertical-align: middle;\n",
              "    }\n",
              "\n",
              "    .dataframe tbody tr th {\n",
              "        vertical-align: top;\n",
              "    }\n",
              "\n",
              "    .dataframe thead th {\n",
              "        text-align: right;\n",
              "    }\n",
              "</style>\n",
              "<table border=\"1\" class=\"dataframe\">\n",
              "  <thead>\n",
              "    <tr style=\"text-align: right;\">\n",
              "      <th></th>\n",
              "      <th>name</th>\n",
              "      <th>companay</th>\n",
              "      <th>email</th>\n",
              "    </tr>\n",
              "  </thead>\n",
              "  <tbody>\n",
              "    <tr>\n",
              "      <th>0</th>\n",
              "      <td>pandatd</td>\n",
              "      <td>coddersclub</td>\n",
              "      <td>pandatd@coddersclub.com</td>\n",
              "    </tr>\n",
              "    <tr>\n",
              "      <th>1</th>\n",
              "      <td>vbg</td>\n",
              "      <td>coddersclub</td>\n",
              "      <td>vbg@coddersclub.com</td>\n",
              "    </tr>\n",
              "    <tr>\n",
              "      <th>2</th>\n",
              "      <td>d</td>\n",
              "      <td>coddersclub</td>\n",
              "      <td>d.coddersclub.com</td>\n",
              "    </tr>\n",
              "    <tr>\n",
              "      <th>3</th>\n",
              "      <td>kunal</td>\n",
              "      <td>coddersclub</td>\n",
              "      <td>kunal@coddersclub.com</td>\n",
              "    </tr>\n",
              "    <tr>\n",
              "      <th>4</th>\n",
              "      <td>ceo</td>\n",
              "      <td>coddersclub</td>\n",
              "      <td>ceo@coddersclub.com</td>\n",
              "    </tr>\n",
              "    <tr>\n",
              "      <th>5</th>\n",
              "      <td>mukesh</td>\n",
              "      <td>client</td>\n",
              "      <td>mueksh@client-coddersclub.com</td>\n",
              "    </tr>\n",
              "  </tbody>\n",
              "</table>\n",
              "</div>"
            ],
            "text/plain": [
              "      name     companay                          email\n",
              "0  pandatd  coddersclub        pandatd@coddersclub.com\n",
              "1      vbg  coddersclub            vbg@coddersclub.com\n",
              "2        d  coddersclub              d.coddersclub.com\n",
              "3    kunal  coddersclub          kunal@coddersclub.com\n",
              "4      ceo  coddersclub            ceo@coddersclub.com\n",
              "5   mukesh       client  mueksh@client-coddersclub.com"
            ]
          },
          "metadata": {
            "tags": []
          },
          "execution_count": 22
        }
      ]
    },
    {
      "cell_type": "code",
      "metadata": {
        "collapsed": true,
        "colab": {
          "base_uri": "https://localhost:8080/",
          "height": 181
        },
        "id": "ZKShcvfacCbR",
        "outputId": "c2f5d357-b8f2-40a4-b095-b0c194fd5a8e"
      },
      "source": [
        "note_iloc = \"\"\"\n",
        "1) iloc is stands for integer location.\n",
        "2) iloc only takes integer as location.\n",
        "       \"\"\"\n",
        "print(note_iloc)\n",
        "#new_df.iloc[0]# By using iloc we fetched the first index \n",
        "# Not only we use integer but also a slicicing as we done in list or tuple.\n",
        "# But hear's indexing is diff we can not use [] this brackes only we pass the vale like 0:2.\n",
        "# let's take an exmple of slicing with iloc\n",
        "new_df.iloc[:2]\n",
        "# Above statment is an example of slicing "
      ],
      "execution_count": 23,
      "outputs": [
        {
          "output_type": "stream",
          "text": [
            "\n",
            "1) iloc is stands for integer location.\n",
            "2) iloc only takes integer as location.\n",
            "       \n"
          ],
          "name": "stdout"
        },
        {
          "output_type": "execute_result",
          "data": {
            "text/html": [
              "<div>\n",
              "<style scoped>\n",
              "    .dataframe tbody tr th:only-of-type {\n",
              "        vertical-align: middle;\n",
              "    }\n",
              "\n",
              "    .dataframe tbody tr th {\n",
              "        vertical-align: top;\n",
              "    }\n",
              "\n",
              "    .dataframe thead th {\n",
              "        text-align: right;\n",
              "    }\n",
              "</style>\n",
              "<table border=\"1\" class=\"dataframe\">\n",
              "  <thead>\n",
              "    <tr style=\"text-align: right;\">\n",
              "      <th></th>\n",
              "      <th>name</th>\n",
              "      <th>companay</th>\n",
              "      <th>email</th>\n",
              "    </tr>\n",
              "  </thead>\n",
              "  <tbody>\n",
              "    <tr>\n",
              "      <th>0</th>\n",
              "      <td>pandatd</td>\n",
              "      <td>coddersclub</td>\n",
              "      <td>pandatd@coddersclub.com</td>\n",
              "    </tr>\n",
              "    <tr>\n",
              "      <th>1</th>\n",
              "      <td>vbg</td>\n",
              "      <td>coddersclub</td>\n",
              "      <td>vbg@coddersclub.com</td>\n",
              "    </tr>\n",
              "  </tbody>\n",
              "</table>\n",
              "</div>"
            ],
            "text/plain": [
              "      name     companay                    email\n",
              "0  pandatd  coddersclub  pandatd@coddersclub.com\n",
              "1      vbg  coddersclub      vbg@coddersclub.com"
            ]
          },
          "metadata": {
            "tags": []
          },
          "execution_count": 23
        }
      ]
    },
    {
      "cell_type": "code",
      "metadata": {
        "collapsed": true,
        "colab": {
          "base_uri": "https://localhost:8080/",
          "height": 112
        },
        "id": "CO52DBeIcCbT",
        "outputId": "5d767fff-4712-44e1-b6b4-2ac1420d6072"
      },
      "source": [
        "# Now we see loc \n",
        "note_loc = \"\"\"\n",
        "            1) loc is stands for location \n",
        "           \"\"\"\n",
        "#new_df.columns # Feching the column names \n",
        "new_df.loc[0:3:2, 'name':'companay']\n",
        "# In above example we will fetched the data usinig loc method\n",
        "# In above exmple we did the slicing \n",
        "new_df.loc[[1,2],['name','companay']]\n",
        "# In above the example we wiil fetched the 1,and second record assosiate to 'name' and 'company'."
      ],
      "execution_count": 24,
      "outputs": [
        {
          "output_type": "execute_result",
          "data": {
            "text/html": [
              "<div>\n",
              "<style scoped>\n",
              "    .dataframe tbody tr th:only-of-type {\n",
              "        vertical-align: middle;\n",
              "    }\n",
              "\n",
              "    .dataframe tbody tr th {\n",
              "        vertical-align: top;\n",
              "    }\n",
              "\n",
              "    .dataframe thead th {\n",
              "        text-align: right;\n",
              "    }\n",
              "</style>\n",
              "<table border=\"1\" class=\"dataframe\">\n",
              "  <thead>\n",
              "    <tr style=\"text-align: right;\">\n",
              "      <th></th>\n",
              "      <th>name</th>\n",
              "      <th>companay</th>\n",
              "    </tr>\n",
              "  </thead>\n",
              "  <tbody>\n",
              "    <tr>\n",
              "      <th>1</th>\n",
              "      <td>vbg</td>\n",
              "      <td>coddersclub</td>\n",
              "    </tr>\n",
              "    <tr>\n",
              "      <th>2</th>\n",
              "      <td>d</td>\n",
              "      <td>coddersclub</td>\n",
              "    </tr>\n",
              "  </tbody>\n",
              "</table>\n",
              "</div>"
            ],
            "text/plain": [
              "  name     companay\n",
              "1  vbg  coddersclub\n",
              "2    d  coddersclub"
            ]
          },
          "metadata": {
            "tags": []
          },
          "execution_count": 24
        }
      ]
    },
    {
      "cell_type": "code",
      "metadata": {
        "collapsed": true,
        "colab": {
          "base_uri": "https://localhost:8080/",
          "height": 237
        },
        "id": "wSALYWRlcCba",
        "outputId": "b2fb1caf-3c04-4c80-acda-9df11b15e876"
      },
      "source": [
        "new_df[['name','email']]"
      ],
      "execution_count": 25,
      "outputs": [
        {
          "output_type": "execute_result",
          "data": {
            "text/html": [
              "<div>\n",
              "<style scoped>\n",
              "    .dataframe tbody tr th:only-of-type {\n",
              "        vertical-align: middle;\n",
              "    }\n",
              "\n",
              "    .dataframe tbody tr th {\n",
              "        vertical-align: top;\n",
              "    }\n",
              "\n",
              "    .dataframe thead th {\n",
              "        text-align: right;\n",
              "    }\n",
              "</style>\n",
              "<table border=\"1\" class=\"dataframe\">\n",
              "  <thead>\n",
              "    <tr style=\"text-align: right;\">\n",
              "      <th></th>\n",
              "      <th>name</th>\n",
              "      <th>email</th>\n",
              "    </tr>\n",
              "  </thead>\n",
              "  <tbody>\n",
              "    <tr>\n",
              "      <th>0</th>\n",
              "      <td>pandatd</td>\n",
              "      <td>pandatd@coddersclub.com</td>\n",
              "    </tr>\n",
              "    <tr>\n",
              "      <th>1</th>\n",
              "      <td>vbg</td>\n",
              "      <td>vbg@coddersclub.com</td>\n",
              "    </tr>\n",
              "    <tr>\n",
              "      <th>2</th>\n",
              "      <td>d</td>\n",
              "      <td>d.coddersclub.com</td>\n",
              "    </tr>\n",
              "    <tr>\n",
              "      <th>3</th>\n",
              "      <td>kunal</td>\n",
              "      <td>kunal@coddersclub.com</td>\n",
              "    </tr>\n",
              "    <tr>\n",
              "      <th>4</th>\n",
              "      <td>ceo</td>\n",
              "      <td>ceo@coddersclub.com</td>\n",
              "    </tr>\n",
              "    <tr>\n",
              "      <th>5</th>\n",
              "      <td>mukesh</td>\n",
              "      <td>mueksh@client-coddersclub.com</td>\n",
              "    </tr>\n",
              "  </tbody>\n",
              "</table>\n",
              "</div>"
            ],
            "text/plain": [
              "      name                          email\n",
              "0  pandatd        pandatd@coddersclub.com\n",
              "1      vbg            vbg@coddersclub.com\n",
              "2        d              d.coddersclub.com\n",
              "3    kunal          kunal@coddersclub.com\n",
              "4      ceo            ceo@coddersclub.com\n",
              "5   mukesh  mueksh@client-coddersclub.com"
            ]
          },
          "metadata": {
            "tags": []
          },
          "execution_count": 25
        }
      ]
    },
    {
      "cell_type": "code",
      "metadata": {
        "id": "3_ZLfQSIcCbb"
      },
      "source": [
        "#df.columns\n",
        "#def get_data(rowstart:int =0,rowend:int=5,\n",
        " #            col1=0,col2=5)->object:\n",
        "  #  return df.iloc[rowstart:rowend, col1:col2]\n",
        "\n",
        "#get_data(rowstart=0,rowend=20,col1=2,col2=4)"
      ],
      "execution_count": 26,
      "outputs": []
    }
  ]
}